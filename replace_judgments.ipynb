{
 "cells": [
  {
   "cell_type": "code",
   "execution_count": 10,
   "metadata": {},
   "outputs": [
    {
     "name": "stdout",
     "output_type": "stream",
     "text": [
      "{'train', 'NONE', 'validation', 'test'}\n",
      "917\n"
     ]
    }
   ],
   "source": [
    "import pandas as pd\n",
    "import csv\n",
    "from collections import defaultdict\n",
    "import os\n",
    "\n",
    "\n",
    "def get_test_passage_query_pairs():\n",
    "    file_path = \"splitted_data.txt\"\n",
    "\n",
    "    with open(file_path, 'r') as file:\n",
    "        reader = csv.reader(file, delimiter='\\t')\n",
    "        df = pd.DataFrame(reader, columns=['turn_id', 'user_utterance', 'response',  'passage_id', 'passage_txt', 'score', 'ptkb', 'lable'])\n",
    "    df.head()   \n",
    "\n",
    "    print(set(list(df['lable'])))\n",
    "    test_set = df[df['lable']=='test']\n",
    "    print(len(test_set))\n",
    "    turn_passages_test = defaultdict(list)\n",
    "\n",
    "    for _, row in test_set.iterrows():\n",
    "        turn_passages_test[row[\"turn_id\"]].append(row[\"passage_id\"])\n",
    "    \n",
    "    return turn_passages_test\n",
    "\n",
    "def create_15_percent_pool(new_pool_path, nist_pool_path):\n",
    "    print(new_pool_path)\n",
    "    turn_passages_test = get_test_passage_query_pairs()\n",
    "    new_lines = []\n",
    "\n",
    "    with open(new_pool_path, 'r') as f:\n",
    "        lines = f.readlines()\n",
    "\n",
    "    for line in lines:\n",
    "        turn_id, _, passage_id, score = line.split('\\t')\n",
    "        if passage_id in turn_passages_test[turn_id]:\n",
    "            new_lines.append(line)\n",
    "    print(len(new_lines))\n",
    "    assert len(new_lines) == 917\n",
    "\n",
    "    # with open(nist_pool_path, 'r') as f:\n",
    "    #     lines = f.readlines()\n",
    "\n",
    "    # for line in lines:\n",
    "    #     turn_id, _, passage_id, score = line.split(' ')\n",
    "    #     if not(passage_id in turn_passages_test[turn_id]):\n",
    "    #         new_lines.append(line.replace(' ', '\\t'))\n",
    "\n",
    "    # assert len(new_lines)==len(lines)\n",
    "\n",
    "    return new_lines\n",
    "\n",
    "def without_filling():\n",
    "    turn_passages_test = get_test_passage_query_pairs()\n",
    "    new_lines = []\n",
    "\n",
    "\n",
    "    for turn_id in turn_passages_test:\n",
    "        for passage_id in  turn_passages_test[turn_id]:\n",
    "            line = turn_id +'\\t0\\t'+ passage_id+'\\t0\\n' \n",
    "            new_lines.append(line)\n",
    "\n",
    "    assert len(new_lines) == 917\n",
    "    with open(nist_pool_path, 'r') as f:\n",
    "        lines = f.readlines()\n",
    "\n",
    "    for line in lines:\n",
    "        turn_id, _, passage_id, score = line.split(' ')\n",
    "        if not(passage_id in turn_passages_test[turn_id]):\n",
    "            new_lines.append(line.replace(' ', '\\t'))\n",
    "\n",
    "    assert len(new_lines)==len(lines)\n",
    "\n",
    "    with open('tmp_pools/no_filling.txt', 'w') as f:\n",
    "        f.writelines(new_lines)\n",
    "    \n",
    "    return\n",
    "\n",
    "without_filling()"
   ]
  },
  {
   "cell_type": "code",
   "execution_count": null,
   "metadata": {},
   "outputs": [],
   "source": [
    "nist_pool_path = 'data/human_qrels'\n",
    "\n",
    "\n",
    "model_names = [file_name for file_name in os.listdir('outputs/') if file_name.endswith('.txt')]\n",
    "for model_name in model_names:\n",
    "    gpt_pool_path = 'outputs/'+model_name\n",
    "    partial_pool_path = 'tmp_pools/'+model_name\n",
    "\n",
    "    new_tmp_pool = create_15_percent_pool(gpt_pool_path, nist_pool_path)\n",
    "    with open(partial_pool_path, 'w') as f:\n",
    "        f.writelines(new_tmp_pool)"
   ]
  },
  {
   "cell_type": "code",
   "execution_count": null,
   "metadata": {},
   "outputs": [],
   "source": [
    "model_name = 'human_qrels_tab.txt'\n",
    "gpt_pool_path = 'outputs/'+model_name\n",
    "partial_pool_path = 'tmp_pools/'+model_name\n",
    "\n",
    "new_tmp_pool = create_15_percent_pool(gpt_pool_path, nist_pool_path)\n",
    "with open(partial_pool_path, 'w') as f:\n",
    "    f.writelines(new_tmp_pool)"
   ]
  },
  {
   "cell_type": "code",
   "execution_count": null,
   "metadata": {},
   "outputs": [],
   "source": []
  }
 ],
 "metadata": {
  "kernelspec": {
   "display_name": "Python 3",
   "language": "python",
   "name": "python3"
  },
  "language_info": {
   "codemirror_mode": {
    "name": "ipython",
    "version": 3
   },
   "file_extension": ".py",
   "mimetype": "text/x-python",
   "name": "python",
   "nbconvert_exporter": "python",
   "pygments_lexer": "ipython3",
   "version": "3.9.6"
  }
 },
 "nbformat": 4,
 "nbformat_minor": 2
}
