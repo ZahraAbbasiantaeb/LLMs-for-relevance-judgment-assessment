{
 "cells": [
  {
   "cell_type": "code",
   "execution_count": 9,
   "metadata": {},
   "outputs": [],
   "source": [
    "\n",
    "import os\n",
    "from collections import defaultdict\n",
    "\n",
    "def get_turn_ids(path_qrel):\n",
    "    with open(path_qrel) as f:\n",
    "        lines = f.readlines()\n",
    "    turn_ids = []    \n",
    "    for line in lines:\n",
    "        turn_ids.append(line.split(' ')[0].strip())\n",
    "\n",
    "    \n",
    "    turn_ids= list(set(turn_ids))\n",
    "    print(len(turn_ids))\n",
    "    return turn_ids\n",
    "\n",
    "\n",
    "def get_top_passages_per_run(ranking_models_output_path_dir, pruned_turns):\n",
    "    run_names = list(os.listdir(ranking_models_output_path_dir))\n",
    "\n",
    "    assert len(run_names)==28\n",
    "\n",
    "    run_top10_passages = defaultdict(list)\n",
    "\n",
    "    for run_name in run_names:\n",
    "        with open(ranking_models_output_path_dir+run_name, 'r') as f:\n",
    "            lines = f.readlines()\n",
    "        \n",
    "        for line in lines:\n",
    "            turn_id, _, passage_id, rank, _, _ =line.split('\\t')\n",
    "            if turn_id in pruned_turns:\n",
    "                query_passage_pair_id = turn_id + '****' + passage_id\n",
    "                if int(rank)<=10:\n",
    "                    run_top10_passages[run_name].append(query_passage_pair_id)\n",
    "\n",
    "    return run_top10_passages\n",
    "\n",
    "\n",
    "def create_new_subset_pool(new_pool_path, nist_pool_path, turns_to_remove):\n",
    "    \n",
    "    new_lines = []\n",
    "\n",
    "    with open(new_pool_path, 'r') as f:\n",
    "        lines = f.readlines()\n",
    "\n",
    "    for line in lines:\n",
    "        turn_id, _, passage_id, score = line.split('\\t')\n",
    "        qp_pair_id = turn_id+'****'+passage_id\n",
    "\n",
    "        if qp_pair_id in turns_to_remove:\n",
    "            new_lines.append(line)\n",
    "\n",
    "    with open(nist_pool_path, 'r') as f:\n",
    "        lines = f.readlines()\n",
    "\n",
    "    for line in lines:\n",
    "        turn_id, _, passage_id, score = line.split(' ')\n",
    "        qp_pair_id = turn_id+'****'+passage_id\n",
    "\n",
    "        if not(qp_pair_id in turns_to_remove):\n",
    "            new_lines.append(line.replace(' ', '\\t'))\n",
    "\n",
    "    print(len(new_lines))\n",
    "    print(len(lines))\n",
    "\n",
    "    return new_lines\n",
    "\n",
    "\n",
    "def get_pool_of_run_x(run_name_x, dict_run_top10_passages):\n",
    "\n",
    "    pool_rest_runs = []\n",
    "    pool_run_x = []\n",
    "    \n",
    "    for run_name in dict_run_top10_passages:\n",
    "        if run_name!=run_name_x:\n",
    "            pool_rest_runs+= dict_run_top10_passages[run_name]\n",
    "\n",
    "    pool_run_x = [sample for sample in dict_run_top10_passages[run_name_x] if not (sample in pool_rest_runs)]\n",
    "\n",
    "    print(len(pool_run_x))\n",
    "    \n",
    "    return pool_run_x"
   ]
  },
  {
   "cell_type": "code",
   "execution_count": 5,
   "metadata": {},
   "outputs": [
    {
     "name": "stdout",
     "output_type": "stream",
     "text": [
      "133\n"
     ]
    }
   ],
   "source": [
    "pruned_turns = get_turn_ids('data/human_qrels')\n",
    "ranking_models_output_path_dir = 'trec_format/'\n",
    "dict_run_top10_passages = get_top_passages_per_run(ranking_models_output_path_dir, pruned_turns)"
   ]
  },
  {
   "cell_type": "code",
   "execution_count": null,
   "metadata": {},
   "outputs": [],
   "source": [
    "ranking_models_output_path_dir = 'trec_format/'\n",
    "dict_run_top10_passages = get_top_passages_per_run(ranking_models_output_path_dir, pruned_turns)\n",
    "\n",
    "nist_pool_path  = 'data/human_qrels'\n",
    "output_dir_path = 'tmp_pool_remove_one_run_llama_zero/'\n",
    "new_pool_path   = 'llama-zero-shot-models/ikat.Meta-Llama-3-8B-Instruct'\n",
    "\n",
    "\n",
    "for run_name in dict_run_top10_passages:\n",
    "    output_run_path = output_dir_path + run_name\n",
    "    turns_to_remove = get_pool_of_run_x(run_name, dict_run_top10_passages)\n",
    "    \n",
    "    res = create_new_subset_pool(new_pool_path, nist_pool_path, turns_to_remove)\n",
    "    with open(output_run_path, 'w') as f:\n",
    "        f.writelines(res)\n",
    "    print(run_name)\n",
    "    "
   ]
  }
 ],
 "metadata": {
  "kernelspec": {
   "display_name": "Python 3",
   "language": "python",
   "name": "python3"
  },
  "language_info": {
   "codemirror_mode": {
    "name": "ipython",
    "version": 3
   },
   "file_extension": ".py",
   "mimetype": "text/x-python",
   "name": "python",
   "nbconvert_exporter": "python",
   "pygments_lexer": "ipython3",
   "version": "3.9.6"
  }
 },
 "nbformat": 4,
 "nbformat_minor": 2
}
