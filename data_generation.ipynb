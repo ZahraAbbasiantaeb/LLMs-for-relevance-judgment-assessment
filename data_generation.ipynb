{
 "cells": [
  {
   "cell_type": "code",
   "execution_count": null,
   "metadata": {},
   "outputs": [],
   "source": [
    "\n",
    "import json\n",
    "\n",
    "def parse_ikat_data(data_path):\n",
    "\n",
    "    with open(data_path, 'r') as f:\n",
    "        topics = json.load(f)\n",
    "\n",
    "    ptkb_turn = {}\n",
    "    utterance_turn = {}\n",
    "    response_turn = {}\n",
    "\n",
    "    for topic in topics:\n",
    "        topic_id = topic['number']\n",
    "        for turn in topic['turns']:\n",
    "            turn_num = str(topic_id) + '_' + str(turn['turn_id'])\n",
    "            if 'response' in turn:\n",
    "                utterance_turn[turn_num] = turn['resolved_utterance']\n",
    "                response_turn[turn_num] = turn['response']\n",
    "                relevant_statements = [topic['ptkb'][str(i)] for i in turn['ptkb_provenance']]\n",
    "                if len(relevant_statements)>0:\n",
    "                    ptkb_turn[turn_num] = ' '.join(relevant_statements).strip()\n",
    "                    print(ptkb_turn[turn_num])\n",
    "                else:\n",
    "                    ptkb_turn[turn_num] = 'NONE'\n",
    "\n",
    "                print(ptkb_turn[turn_num])\n",
    "                print(utterance_turn[turn_num])\n",
    "                print(turn_num)\n",
    "                print('*********************')\n",
    "            else:\n",
    "                print('topic ended at this point: ', turn_num)\n",
    "                break\n",
    "    return  utterance_turn, ptkb_turn  , response_turn         \n",
    "\n",
    "\n",
    "prompt = \"\"\"instruction: {inst}\\n\n",
    "Background info about user: {bkg}\\n\n",
    "User question: {question}\\n\n",
    "document: {doc}\\n\n",
    "Please only generate an int score between 0 to 4 to say to what extent the document is relevant to the user question. Score lower than 2 means the document is not relevant.\n",
    "\"\"\"\n",
    "\n",
    "instruction_3 = \"\"\"I will give you a user question and a passage, you should say to what extent the given passage is relevant for answering the question by giving an integer rate between 0-4. I will also give some background information about the user and history of the user's conversation with the system. \"\"\"\n",
    "\n",
    "data_path = 'data/2023_test_topics.json'\n",
    "\n",
    "utterance_turn, ptkb_turn, response_turn = parse_ikat_data(data_path)\n"
   ]
  },
  {
   "cell_type": "code",
   "execution_count": 42,
   "metadata": {},
   "outputs": [],
   "source": [
    "def clean(passage_text):\n",
    "    return passage_text.replace('\\t', ' ').replace('\\n', ' ').replace('  ', ' ').strip()\n"
   ]
  },
  {
   "cell_type": "code",
   "execution_count": null,
   "metadata": {},
   "outputs": [],
   "source": [
    "import pickle\n",
    "\n",
    "qrel_path = 'pools/human_qrels'\n",
    "with open(qrel_path, 'r') as f:\n",
    "    lines = f.readlines()\n",
    "\n",
    "with open('data/passage_collection.pkl', 'rb') as f:\n",
    "    passage_collection = pickle.load(f)\n",
    "\n",
    "lines_to_write = []\n",
    "lines_to_write.append('turn_id\\trewritten_utterance\\tpassage_id\\tpassage_text\\tscore\\tptkb\\tNone\\n')\n",
    "\n",
    "for line in lines:\n",
    "    turn_id, _, passage_id, score = line.split(' ')    \n",
    "    score = score.strip()\n",
    "    tmp_line = turn_id +'\\t'+ utterance_turn[turn_id] + '\\t'+ response_turn[turn_id] + '\\t' + passage_id +'\\t'+  clean(passage_collection[passage_id]) +'\\t' +  score  +'\\t' + ptkb_turn[turn_id] + '\\t0\\n'\n",
    "    print(passage_collection[passage_id])\n",
    "    lines_to_write.append(tmp_line)\n"
   ]
  },
  {
   "cell_type": "code",
   "execution_count": 44,
   "metadata": {},
   "outputs": [],
   "source": [
    "with open('data.txt', 'w') as f:\n",
    "    f.writelines(lines_to_write)"
   ]
  },
  {
   "cell_type": "code",
   "execution_count": 45,
   "metadata": {},
   "outputs": [],
   "source": [
    "import pickle\n",
    "\n",
    "qrel_path = 'pools/human_qrels'\n",
    "with open(qrel_path, 'r') as f:\n",
    "    lines = f.readlines()\n",
    "\n",
    "with open('data/passage_collection.pkl', 'rb') as f:\n",
    "    passage_collection = pickle.load(f)\n",
    "\n",
    "lines_to_write = []\n",
    "lines_to_write.append('turn_id\\trewritten_utterance\\tpassage_id\\tpassage_text\\tscore\\tptkb\\tNone\\n')\n",
    "\n",
    "from collections import defaultdict\n",
    "turn_score_passage = defaultdict(lambda: defaultdict(list))\n",
    "\n",
    "for line in lines:\n",
    "    turn_id, _, passage_id, score = line.split(' ')    \n",
    "    score = score.strip()\n",
    "    turn_score_passage[turn_id][score].append(passage_id)\n",
    "\n"
   ]
  },
  {
   "cell_type": "code",
   "execution_count": 61,
   "metadata": {},
   "outputs": [],
   "source": [
    "import random\n",
    "\n",
    "turn_positive_passage = {}\n",
    "turn_negative_passage = {}\n",
    "\n",
    "for turn_id in turn_score_passage:\n",
    "\n",
    "    for key in ['4', '3', '2']:\n",
    "        if len(turn_score_passage[turn_id][key])>0:\n",
    "            pass_id = random.choice(turn_score_passage[turn_id][key])\n",
    "            turn_positive_passage[turn_id] = \" \".join(passage_collection[pass_id].split()).strip()+'\\t'+key\n",
    "            break\n",
    "\n",
    "    for key in ['0', '1']:\n",
    "        if len(turn_score_passage[turn_id][key])>0:\n",
    "            pass_id = pass_id = random.choice(turn_score_passage[turn_id][key])\n",
    "            turn_negative_passage[turn_id] = \" \".join(passage_collection[pass_id].split()).strip()+'\\t'+key\n",
    "            break\n",
    "        "
   ]
  },
  {
   "cell_type": "code",
   "execution_count": null,
   "metadata": {},
   "outputs": [],
   "source": [
    "for turn_id in turn_negative_passage:\n",
    "    print(turn_negative_passage[turn_id])\n",
    "    print(turn_positive_passage[turn_id])\n",
    "    print('*********************')"
   ]
  },
  {
   "cell_type": "code",
   "execution_count": 66,
   "metadata": {},
   "outputs": [],
   "source": [
    "lines = []\n",
    "path_1 = 'data/random_positive_negative_examples.txt'\n",
    "\n",
    "for turn_id in turn_negative_passage:\n",
    "    x = turn_id + '\\t' + turn_negative_passage[turn_id] + '\\t' + turn_positive_passage[turn_id] + '\\t0\\n'\n",
    "    lines.append(x)\n",
    "\n",
    "    \n",
    "with open(path_1, 'w') as f:\n",
    "    f.writelines(lines)"
   ]
  },
  {
   "cell_type": "code",
   "execution_count": null,
   "metadata": {},
   "outputs": [],
   "source": []
  }
 ],
 "metadata": {
  "kernelspec": {
   "display_name": "Python 3",
   "language": "python",
   "name": "python3"
  },
  "language_info": {
   "codemirror_mode": {
    "name": "ipython",
    "version": 3
   },
   "file_extension": ".py",
   "mimetype": "text/x-python",
   "name": "python",
   "nbconvert_exporter": "python",
   "pygments_lexer": "ipython3",
   "version": "3.9.6"
  }
 },
 "nbformat": 4,
 "nbformat_minor": 2
}
