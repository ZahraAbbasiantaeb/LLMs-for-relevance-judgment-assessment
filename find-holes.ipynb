{
 "cells": [
  {
   "cell_type": "code",
   "execution_count": 16,
   "metadata": {},
   "outputs": [],
   "source": [
    "path_to_judgment = ['data/gpt3.5-pool-2.txt', 'data/gpt3.5-pool.txt']\n",
    "path_qrel = ['data/human_qrels']\n"
   ]
  },
  {
   "cell_type": "code",
   "execution_count": 17,
   "metadata": {},
   "outputs": [],
   "source": [
    "from collections import defaultdict\n",
    "\n",
    "def get_pool(paths):\n",
    "    pool_1 = defaultdict(int)\n",
    "    for path_1 in paths:\n",
    "        with open(path_1, 'r') as f:\n",
    "            lines = f.readlines()\n",
    "\n",
    "        for line in lines:\n",
    "\n",
    "            turn_id, _, passage_id, score = line.split(' ')  \n",
    "            id = turn_id+'****'+ passage_id\n",
    "            pool_1[id] = int(score.strip())\n",
    "    return pool_1\n",
    "\n",
    "gpt_pool = get_pool(path_to_judgment)\n",
    "nist_pool = get_pool(path_qrel)"
   ]
  },
  {
   "cell_type": "code",
   "execution_count": 4,
   "metadata": {},
   "outputs": [],
   "source": [
    "def export_holes(judg_main, judg_pred):\n",
    "    holes = defaultdict(list)\n",
    "    for id in judg_main:\n",
    "        if not (id in judg_pred):\n",
    "            turn_id, pass_id = id.split('****')\n",
    "            holes[turn_id].append(pass_id)\n",
    "\n",
    "    return holes\n",
    "\n",
    "holes = export_holes(nist_pool, gpt_pool)"
   ]
  },
  {
   "cell_type": "code",
   "execution_count": 11,
   "metadata": {},
   "outputs": [],
   "source": [
    "rows = []\n",
    "for turn_id in holes:\n",
    "    for doc_id in holes[turn_id]:\n",
    "        row = turn_id + '\\t0\\t' + doc_id + '\\n'\n",
    "        rows.append(row)\n",
    "\n",
    "\n",
    "with open('docs_to_judge.txt', 'w') as f:\n",
    "    f.writelines(rows)"
   ]
  },
  {
   "cell_type": "code",
   "execution_count": 23,
   "metadata": {},
   "outputs": [],
   "source": [
    "\n",
    "pool_1 = defaultdict(list)\n",
    "path_1 = 'data/human_qrels'\n",
    "\n",
    "with open(path_1, 'r') as f:\n",
    "    lines = f.readlines()\n",
    "\n",
    "for line in lines:\n",
    "    turn_id, _, passage_id, score = line.split(' ') \n",
    "    pool_1[turn_id].append(passage_id) \n"
   ]
  },
  {
   "cell_type": "code",
   "execution_count": 28,
   "metadata": {},
   "outputs": [],
   "source": [
    "path_to_judgment = ['data/gpt3.5-pool-2.txt', 'data/gpt3.5-pool.txt']\n",
    "judgs = defaultdict(lambda: defaultdict(str))\n",
    "\n",
    "for path in path_to_judgment:\n",
    "    with open(path, 'r') as f:\n",
    "        data = f.readlines()\n",
    "        for line in data:\n",
    "            turn_id, _ , doc_id, score = line.split(' ')\n",
    "            judgs[turn_id][doc_id] = score.strip()"
   ]
  },
  {
   "cell_type": "code",
   "execution_count": 29,
   "metadata": {},
   "outputs": [],
   "source": [
    "with open('outputs/gpt3.5-V1-pool.txt', 'r') as f:\n",
    "    data = f.readlines()\n",
    "    for line in data:\n",
    "        turn_id, _ , doc_id, score, _ = line.split('\\t')\n",
    "        judgs[turn_id][doc_id] = score"
   ]
  },
  {
   "cell_type": "code",
   "execution_count": 32,
   "metadata": {},
   "outputs": [],
   "source": [
    "lines = []\n",
    "\n",
    "for turn_id in judgs:\n",
    "    for doc_id in judgs[turn_id]:\n",
    "        if doc_id in pool_1[turn_id]:\n",
    "            line = turn_id + '\\t0\\t' + doc_id + '\\t' + judgs[turn_id][doc_id] + '\\n'\n",
    "            lines.append(line)\n",
    "\n",
    "with open('gpt3.5-pool-one-shot.txt', 'w') as f:\n",
    "    f.writelines(lines)"
   ]
  }
 ],
 "metadata": {
  "kernelspec": {
   "display_name": "Python 3",
   "language": "python",
   "name": "python3"
  },
  "language_info": {
   "codemirror_mode": {
    "name": "ipython",
    "version": 3
   },
   "file_extension": ".py",
   "mimetype": "text/x-python",
   "name": "python",
   "nbconvert_exporter": "python",
   "pygments_lexer": "ipython3",
   "version": "3.9.6"
  }
 },
 "nbformat": 4,
 "nbformat_minor": 2
}
